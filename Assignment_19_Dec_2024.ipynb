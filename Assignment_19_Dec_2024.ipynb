{
  "nbformat": 4,
  "nbformat_minor": 0,
  "metadata": {
    "colab": {
      "provenance": [],
      "authorship_tag": "ABX9TyOXnd+3BHZtErOXsWvRpt5P",
      "include_colab_link": true
    },
    "kernelspec": {
      "name": "python3",
      "display_name": "Python 3"
    },
    "language_info": {
      "name": "python"
    }
  },
  "cells": [
    {
      "cell_type": "markdown",
      "metadata": {
        "id": "view-in-github",
        "colab_type": "text"
      },
      "source": [
        "<a href=\"https://colab.research.google.com/github/Saifullah17003/Assignment-19.12.24/blob/main/Assignment_19_Dec_2024.ipynb\" target=\"_parent\"><img src=\"https://colab.research.google.com/assets/colab-badge.svg\" alt=\"Open In Colab\"/></a>"
      ]
    },
    {
      "cell_type": "code",
      "source": [
        "# import sys is needed to calculate the memory size of objects\n",
        "import sys\n",
        "# define a function manely addComplex to contain z1 & z2 as complex number\n",
        "def addComplex( z1, z2):\n",
        "# return the sum of z1 and z2\n",
        "    return z1 + z2\n",
        "# Creat a list of complex number\n",
        "# complex(_,2+_) refers generate a complex number which real part would be \"_\" and imaginary part would be \"2+_\"\n",
        "# for _ in range(6) indicates that iterates this process from 0 to 5\n",
        "li1 = [complex(_,2+_) for _ in range(6)]\n",
        "# This is also creat a complex number list like the above code but the iteration of this code would be started from 2 to <14 increase by 2 in each step.\n",
        "li2 = [complex(_,2+_) for _ in range(2,14,2)]\n",
        "#creat in empty list as li3\n",
        "li3 = []\n",
        "# This loop use to iterates the process through lis1 and lis2\n",
        "#zip(li1,li2) use to combines elements as pair where i from lis1 and j from lis2\n",
        "# li3.append(addComplex(i,j)) add the value of i, j and store in lis3\n",
        "for i,j in zip(li1,li2):\n",
        "    li3.append(addComplex(i,j))\n",
        "# print the result of li1, li2 and li3 with a new line\n",
        "print(f\"li1 = {li1}\\nli2 = {li2}\\nli3= {li3}\")\n",
        "# converts li3 into uft-16 encoded bytes string\n",
        "# first li3 is converted as string, then rncoding as UFT-16 and then creat a byte string from UFT-16\n",
        "enc_mess = bytes(str(li3).encode('utf-16'))\n",
        "#print the type and memory size of enc_mess\n",
        "print(f\"Encoded Message Size of type{type(enc_mess)}: \",sys.getsizeof(enc_mess))\n",
        "# display the type and memory size of li3\n",
        "print(f\"List Size of type{type(li3)}: \",sys.getsizeof(li3))\n",
        "#Display the size of memory of the string representation of li3\n",
        "print(f\"Encoded Message Size of type{type(str(li3))}: \",sys.getsizeof(str(li3)))\n",
        "#display the original list of li3\n",
        "print(\"Original list after addition\", li3)\n",
        "#display enc_mess\n",
        "print(f\"Encoded Message: {enc_mess}\")"
      ],
      "metadata": {
        "id": "j0cATMs4KMcL",
        "colab": {
          "base_uri": "https://localhost:8080/"
        },
        "outputId": "c9bdcef7-9f93-4668-a738-c1db28241d45"
      },
      "execution_count": 4,
      "outputs": [
        {
          "output_type": "stream",
          "name": "stdout",
          "text": [
            "li1 = [2j, (1+3j), (2+4j), (3+5j), (4+6j), (5+7j)]\n",
            "li2 = [(2+4j), (4+6j), (6+8j), (8+10j), (10+12j), (12+14j)]\n",
            "li3= [(2+6j), (5+9j), (8+12j), (11+15j), (14+18j), (17+21j)]\n",
            "Encoded Message Size of type<class 'bytes'>:  145\n",
            "List Size of type<class 'list'>:  120\n",
            "Encoded Message Size of type<class 'str'>:  104\n",
            "Original list after addition [(2+6j), (5+9j), (8+12j), (11+15j), (14+18j), (17+21j)]\n",
            "Encoded Message: b'\\xff\\xfe[\\x00(\\x002\\x00+\\x006\\x00j\\x00)\\x00,\\x00 \\x00(\\x005\\x00+\\x009\\x00j\\x00)\\x00,\\x00 \\x00(\\x008\\x00+\\x001\\x002\\x00j\\x00)\\x00,\\x00 \\x00(\\x001\\x001\\x00+\\x001\\x005\\x00j\\x00)\\x00,\\x00 \\x00(\\x001\\x004\\x00+\\x001\\x008\\x00j\\x00)\\x00,\\x00 \\x00(\\x001\\x007\\x00+\\x002\\x001\\x00j\\x00)\\x00]\\x00'\n"
          ]
        }
      ]
    },
    {
      "cell_type": "code",
      "source": [],
      "metadata": {
        "id": "L2eVg3wMG8JU"
      },
      "execution_count": null,
      "outputs": []
    }
  ]
}